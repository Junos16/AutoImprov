{
 "cells": [
  {
   "cell_type": "code",
   "execution_count": 15,
   "metadata": {},
   "outputs": [
    {
     "name": "stdout",
     "output_type": "stream",
     "text": [
      "Requirement already satisfied: music21 in c:\\users\\hridd\\appdata\\roaming\\python\\python312\\site-packages (9.1.0)\n",
      "Requirement already satisfied: chardet in c:\\users\\hridd\\appdata\\roaming\\python\\python312\\site-packages (from music21) (5.2.0)\n",
      "Requirement already satisfied: joblib in c:\\python312\\lib\\site-packages (from music21) (1.4.0)\n",
      "Requirement already satisfied: jsonpickle in c:\\python312\\lib\\site-packages (from music21) (3.0.4)\n",
      "Requirement already satisfied: matplotlib in c:\\users\\hridd\\appdata\\roaming\\python\\python312\\site-packages (from music21) (3.8.4)\n",
      "Requirement already satisfied: more-itertools in c:\\python312\\lib\\site-packages (from music21) (10.2.0)\n",
      "Requirement already satisfied: numpy in c:\\python312\\lib\\site-packages (from music21) (1.26.4)\n",
      "Requirement already satisfied: requests in c:\\users\\hridd\\appdata\\roaming\\python\\python312\\site-packages (from music21) (2.31.0)\n",
      "Requirement already satisfied: webcolors>=1.5 in c:\\python312\\lib\\site-packages (from music21) (1.13)\n",
      "Requirement already satisfied: contourpy>=1.0.1 in c:\\users\\hridd\\appdata\\roaming\\python\\python312\\site-packages (from matplotlib->music21) (1.2.1)\n",
      "Requirement already satisfied: cycler>=0.10 in c:\\users\\hridd\\appdata\\roaming\\python\\python312\\site-packages (from matplotlib->music21) (0.12.1)\n",
      "Requirement already satisfied: fonttools>=4.22.0 in c:\\python312\\lib\\site-packages (from matplotlib->music21) (4.51.0)\n",
      "Requirement already satisfied: kiwisolver>=1.3.1 in c:\\python312\\lib\\site-packages (from matplotlib->music21) (1.4.5)\n",
      "Requirement already satisfied: packaging>=20.0 in c:\\users\\hridd\\appdata\\roaming\\python\\python312\\site-packages (from matplotlib->music21) (24.0)\n",
      "Requirement already satisfied: pillow>=8 in c:\\python312\\lib\\site-packages (from matplotlib->music21) (10.3.0)\n",
      "Requirement already satisfied: pyparsing>=2.3.1 in c:\\python312\\lib\\site-packages (from matplotlib->music21) (3.1.2)\n",
      "Requirement already satisfied: python-dateutil>=2.7 in c:\\users\\hridd\\appdata\\roaming\\python\\python312\\site-packages (from matplotlib->music21) (2.9.0.post0)\n",
      "Requirement already satisfied: charset-normalizer<4,>=2 in c:\\users\\hridd\\appdata\\roaming\\python\\python312\\site-packages (from requests->music21) (3.3.2)\n",
      "Requirement already satisfied: idna<4,>=2.5 in c:\\python312\\lib\\site-packages (from requests->music21) (3.7)\n",
      "Requirement already satisfied: urllib3<3,>=1.21.1 in c:\\python312\\lib\\site-packages (from requests->music21) (2.2.1)\n",
      "Requirement already satisfied: certifi>=2017.4.17 in c:\\users\\hridd\\appdata\\roaming\\python\\python312\\site-packages (from requests->music21) (2024.2.2)\n",
      "Requirement already satisfied: six>=1.5 in c:\\users\\hridd\\appdata\\roaming\\python\\python312\\site-packages (from python-dateutil>=2.7->matplotlib->music21) (1.16.0)\n",
      "Note: you may need to restart the kernel to use updated packages.\n"
     ]
    }
   ],
   "source": [
    "pip install music21 --user"
   ]
  },
  {
   "cell_type": "code",
   "execution_count": 82,
   "metadata": {},
   "outputs": [],
   "source": [
    "import os\n",
    "import music21 as m21\n",
    "import json\n",
    "import numpy as np\n",
    "import setuptools.dist\n",
    "import tensorflow.keras as keras"
   ]
  },
  {
   "cell_type": "code",
   "execution_count": 62,
   "metadata": {},
   "outputs": [],
   "source": [
    "DATASET_PATH = \".\\\\MusicXml\"\n",
    "TRANSPOSE_PATH = \".\\\\Transpose\"\n",
    "PREPROCESS_PATH = \".\\\\Preprocess\"\n",
    "MINIMUM_DURATION = 1/6\n",
    "SEQUENCE_LENGTH = 48"
   ]
  },
  {
   "cell_type": "code",
   "execution_count": 18,
   "metadata": {},
   "outputs": [],
   "source": [
    "def load_songs(dataset_path):\n",
    "    songs = []\n",
    "    for filename in os.listdir(dataset_path):\n",
    "        filepath = os.path.join(dataset_path, filename)\n",
    "        if os.path.isfile(filepath) and filename.endswith(\".xml\"):\n",
    "            song = m21.converter.parse(filepath)\n",
    "            songs.append(song)\n",
    "\n",
    "    return songs"
   ]
  },
  {
   "cell_type": "code",
   "execution_count": 33,
   "metadata": {},
   "outputs": [],
   "source": [
    "def filter_songs_by_duration(song, minimum_duration):\n",
    "    for note in song.flatten().notesAndRests:\n",
    "        if note.duration.quarterLength < minimum_duration and note.duration.quarterLength != 0:\n",
    "            print(note.duration.quarterLength)\n",
    "            return False\n",
    "    return True"
   ]
  },
  {
   "cell_type": "code",
   "execution_count": 6,
   "metadata": {},
   "outputs": [],
   "source": [
    "def generate_all_key_transpositions(song):\n",
    "    transposed_songs = []\n",
    "    for i in range(0, 12):\n",
    "        transposed_song = song.transpose(i)\n",
    "        transposed_songs.append(transposed_song)\n",
    "    return transposed_songs"
   ]
  },
  {
   "cell_type": "code",
   "execution_count": 5,
   "metadata": {},
   "outputs": [],
   "source": [
    "def transpose_to_C_or_A(song):\n",
    "    key = song.analyze(\"key\")\n",
    "    if key.mode == \"major\":\n",
    "        interval = m21.interval.Interval(key.tonic, m21.pitch.Pitch(\"C\"))\n",
    "    elif key.mode == \"minor\":       \n",
    "        interval = m21.interval.Interval(key.tonic, m21.pitch.Pitch(\"A\"))\n",
    "    # print(interval)\n",
    "    transposed_song = song.transpose(interval)\n",
    "    return transposed_song"
   ]
  },
  {
   "cell_type": "code",
   "execution_count": 27,
   "metadata": {},
   "outputs": [],
   "source": [
    "def get_minimum_duration(songs):\n",
    "    minimum_duration = 1\n",
    "    for song in songs:\n",
    "        for note in song.flat.notesAndRests and note.duration.quarterLength != 0:\n",
    "            if note.duration.quarterLength != 0 and note.duration.quarterLength < minimum_duration:\n",
    "                minimum_duration = note.duration.quarterLength\n",
    "    return minimum_duration"
   ]
  },
  {
   "cell_type": "code",
   "execution_count": 46,
   "metadata": {},
   "outputs": [],
   "source": [
    "def encode_solo(song, minimum_duration):\n",
    "    encoded_solo = []\n",
    "    \n",
    "    for element in song.flatten().notesAndRests:\n",
    "        if isinstance(element, m21.note.Note): symbol = element.pitch.midi\n",
    "        elif isinstance(element, m21.note.Rest): symbol = \"r\"\n",
    "        duration = int(element.duration.quarterLength / minimum_duration)\n",
    "        for i in range(duration):\n",
    "            if i == 0: encoded_solo.append(symbol)\n",
    "            else: encoded_solo.append(\"_\")\n",
    "\n",
    "    encoded_solo = \" \".join(map(str, encoded_solo))\n",
    "    return encoded_solo"
   ]
  },
  {
   "cell_type": "code",
   "execution_count": 47,
   "metadata": {},
   "outputs": [],
   "source": [
    "def encode_chords(song, minimum_duration):\n",
    "    encoded_chords = []\n",
    "    current_chord = None\n",
    "    current_duration = 0\n",
    "\n",
    "    for element in song.flatten():\n",
    "        if isinstance(element, m21.harmony.ChordSymbol):\n",
    "            if current_chord: \n",
    "                for i in range(current_duration):\n",
    "                    if i == 0: encoded_chords.append(current_chord.figure)\n",
    "                    else: encoded_chords.append(\"_\")\n",
    "            current_chord = element\n",
    "            current_duration = 0\n",
    "        elif isinstance(element, m21.note.Note) or isinstance(element, m21.note.Rest):\n",
    "            current_duration += int(element.duration.quarterLength / minimum_duration)\n",
    "\n",
    "\n",
    "    encoded_chords = \" \".join(map(str, encoded_chords))\n",
    "    return encoded_chords"
   ]
  },
  {
   "cell_type": "code",
   "execution_count": 31,
   "metadata": {},
   "outputs": [
    {
     "name": "stdout",
     "output_type": "stream",
     "text": [
      "Another Hairdo\n"
     ]
    }
   ],
   "source": [
    "songs = load_songs(DATASET_PATH)\n",
    "print(songs[0].metadata.title)\n",
    "# minimum_duration = get_minimum_duration(songs)"
   ]
  },
  {
   "cell_type": "code",
   "execution_count": 43,
   "metadata": {},
   "outputs": [
    {
     "name": "stdout",
     "output_type": "stream",
     "text": [
      "0.125\n",
      "0.125\n",
      "0.125\n",
      "0.125\n",
      "1/12\n",
      "0.125\n",
      "0.125\n",
      "0.125\n",
      "1/12\n",
      "0.125\n",
      "0.125\n",
      "0.125\n",
      "0.125\n",
      "0.125\n",
      "0.125\n",
      "0.125\n",
      "0.125\n",
      "0.125\n",
      "32\n"
     ]
    }
   ],
   "source": [
    "filtered_songs = []\n",
    "\n",
    "for song in songs:\n",
    "    if filter_songs_by_duration(song, MINIMUM_DURATION):\n",
    "        filtered_songs.append(song) \n",
    "\n",
    "print(len(filtered_songs))"
   ]
  },
  {
   "cell_type": "code",
   "execution_count": 11,
   "metadata": {},
   "outputs": [],
   "source": [
    "all_key_songs = []\n",
    "for song in songs:\n",
    "    all_key_songs.extend(generate_all_key_transpositions(song))"
   ]
  },
  {
   "cell_type": "code",
   "execution_count": 18,
   "metadata": {},
   "outputs": [],
   "source": [
    "def save_transcribed_songs(song, output_dir):\n",
    "    if not os.path.exists(output_dir):\n",
    "        os.makedirs(output_dir)\n",
    "\n",
    "    for idx, song in enumerate(songs):\n",
    "        for i in range(0, 12):\n",
    "            transposed_song = song.transpose(i)\n",
    "            filename = os.path.join(output_dir, f\"score_{idx}_transposed_{i}.xml\")\n",
    "            transposed_song.write(\"musicxml\", fp = filename)"
   ]
  },
  {
   "cell_type": "code",
   "execution_count": 19,
   "metadata": {},
   "outputs": [],
   "source": [
    "save_transcribed_songs(songs, TRANSPOSE_PATH)"
   ]
  },
  {
   "cell_type": "code",
   "execution_count": 12,
   "metadata": {},
   "outputs": [
    {
     "name": "stdout",
     "output_type": "stream",
     "text": [
      "Another Hairdo\n",
      "r _ _ _ _ _ 69 _ _ _ _ _ 74 _ 76 _ 74 _ 69 _ _ _ _ _ 72 _ _ _ _ _ 73 _ _ _ _ _ r _ _ _ _ _ 69 _ _ _ _ _ 74 _ 76 _ 74 _ 69 _ _ _ _ _ 72 _ _ _ _ _ 73 _ _ _ _ _ r _ _ _ _ _ 69 _ _ _ _ _ 74 _ 76 _ 74 _ 69 _ _ _ _ _ 72 _ _ _ _ _ 73 _ _ _ _ _ r _ _ _ _ _ 69 _ _ _ _ _ 71 _ _ _ _ _ 67 _ _ _ _ _ 67 _ _ _ _ _ _ _ _ _ _ _ r _ _ _ _ _ _ _ _ _ _ _ _ _ _ _ _ _ _ _ _ _ _ _ _ _ _ _ _ _ _ _ _ _ _ _ _ _ _ _ _ _ _ _ _ _ _ _ 84 _ _ 83 _ _ 81 _ _ 79 _ _ 78 _ _ 76 _ _ 74 _ _ 68 _ _ 69 _ _ 71 _ _ 72 _ _ 69 _ _ 71 _ _ _ _ _ _ _ _ _ _ _ 71 _ _ _ _ _ _ _ _ _ _ _ r _ _ _ _ _ _ _ _ _ _ _ r _ _ _ _ _ 69 _ _ _ _ _ 73 _ _ _ _ _ 76 _ _ _ _ _ 78 _ _ _ _ _ 81 _ _ _ _ _ 83 _ _ _ _ _ 80 _ _ _ _ _ 81 _ _ 83 _ _ 81 _ _ 80 _ _ 78 _ _ _ _ _ 77 _ _ _ _ _ 76 _ _ _ _ _ 74 _ _ _ _ _ 73 _ _ _ _ _ 71 _ _ _ _ _ 70 _ _ _ _ _ 79 _ _ _ _ _ 78 _ 79 _ 78 _ 76 _ _ _ _ _ 74 _ _ _ _ _ 66 _ _ _ _ _ 69 _ _ _ _ _ 73 _ _ _ _ _ 71 _ _ _ _ _ _ _ _ _ _ _ r _ _ _ _ _ 84 _ _ _ _ _ 84 _ _ _ _ _ 81 _ _ _ _ _ _ _ _ _ _ _ 79 _ _ _ _ _ 76 _ _ _ _ _ 74 _ _ _ _ _ 72 _ _ _ _ _ 69 _ _ _ _ _ 69 _ _ _ _ _ _ _ _ _ _ _ 66 _ _ _ _ _ 69 _ _ _ _ _ 71 _ _ _ _ _ _ _ 69 _ _ _ _ _ _ _ 69 _ _ _ _ _ _ _ 69 _ _ _ _ _ _ _ _ _ _ _ r _ _ _ _ _ _ _ _ _ _ _ r _ _ _ _ _ _ _ _ _ _ _ _ _ _ _ _ _ _ _ _ _ _ _ r _ _ _ _ _ 69 _ _ _ _ _ 74 _ 76 _ 74 _ 69 _ _ _ _ _ 72 _ _ _ _ _ 73 _ _ _ _ _ r _ _ _ _ _ 69 _ _ _ _ _ 74 _ 76 _ 74 _ 69 _ _ _ _ _ 72 _ _ _ _ _ 73 _ _ _ _ _ r _ _ _ _ _ 69 _ _ _ _ _ 74 _ 76 _ 74 _ 69 _ _ _ _ _ 72 _ _ _ _ _ 73 _ _ _ _ _ r _ _ _ _ _ 69 _ _ _ _ _ 71 _ _ _ _ _ 67 _ _ _ _ _ 67 _ _ _ _ _ _ _ _ _ _ _ r _ _ _ _ _ _ _ _ _ _ _ _ _ _ _ _ _ _ _ _ _ _ _ 78 _ _ 77 _ _ 75 _ _ 69 _ _ 70 _ _ 72 _ _ 67 _ _ 65 _ _ 66 _ _ 69 _ _ 71 _ _ 73 _ _ 76 _ _ 74 _ _ 73 _ _ 69 _ _ 72 _ _ _ _ _ _ _ _ _ _ _ r _ _ _ _ _ _ _ _ _ _ _ r _ _ _ _ _ _ _ _ _ _ _ _ _ _ _ _ _ _ _ _ _ _ _ _ _ _ _ _ _ _ _ _ _ _ _ _ _ _ _ _ _ _ _ _ _ _ _ r _ _ _ _ _ _ _ _ _ _ _ _ _ _ _ _ _ _ _ _ _ _ _ _ _ _ _ _ _ _ _ _ _ _ _ _ _ _ _ _ _ _ _ _ _ _ _ r _ _ _ _ _ _ _ _ _ _ _ _ _ _ _ _ _ _ _ _ _ _ _ _ _ _ _ _ _ _ _ _ _ _ _ _ _ _ _ _ _ _ _ _ _ _ _ r _ _ _ _ _ _ _ _ _ _ _ _ _ _ _ _ _ _ _ _ _ _ _ r _ _ _ _ _ _ _ _ _ _ _ r _ _ _ _ _ 84 _ _ _ _ _ 84 _ _ _ _ _ 81 _ _ _ _ _ _ _ _ _ _ _ 79 _ _ _ _ _ 76 _ _ _ _ _ 74 _ _ _ _ _ 72 _ _ _ _ _ 69 _ _ _ _ _ 69 _ _ _ _ _ _ _ _ _ _ _ 66 _ _ _ _ _ 69 _ _ _ _ _ 71 _ _ _ _ _ _ _ 69 _ _ _ _ _ _ _ 69 _ _ _ _ _ _ _ 69 _ _ _ _ _ _ _ _ _ _ _ r _ _ _ _ _ _ _ _ _ _ _ r _ _ _ _ _ 73 _ _ _ _ _ 73 _ _ _ _ _ 74 _ _ 75 _ _ 76 _ _ 71 _ _ 72 _ _ 73 _ _ 74 _ _ 69 _ _ 71 _ _ 72 _ _ 73 _ _ _ _ _ 68 _ _ _ _ _ 68 _ _ _ _ _ _ _ _ _ _ _ r _ _ _ _ _ _ _ _ _ _ _ r _ _ _ _ _ 71 _ _ _ _ _ 69 _ 71 _ 69 _ 66 _ _ _ _ _ 68 _ _ _ _ _ 77 _ _ _ _ _ 74 _ _ _ _ _ 75 _ _ _ _ _ 76 _ _ _ _ _ 74 _ _ _ _ _ 73 _ _ _ _ _ 71 _ _ _ _ _ 69 _ _ _ _ _ 68 _ _ _ _ _ 67 _ _ _ _ _ 71 _ _ _ _ _ 81 _ _ _ _ _ 77 _ _ _ _ _ 77 _ _ _ _ _ 71 _ _ 69 _ _ 67 _ _ _ _ _ 69 _ _ _ _ _ 76 _ _ _ _ _ _ _ _ _ _ _ 74 _ _ _ _ _ 69 _ _ _ _ _ 72 _ _ _ _ _ _ _ _ _ _ _ r _ _ _ _ _ _ _ _ _ _ _ r _ _ _ _ _ _ _ _ _ _ _ _ _ _ _ _ _ _ _ _ _ _ _ _ _ _ _ _ _ _ _ _ _ _ _ _ _ _ _ _ _ _ _ _ _ _ _ r _ _ _ _ _ 72 _ _ _ _ _ 73 _ _ 76 _ _ 78 _ _ 80 _ _ 83 _ _ _ _ _ 81 _ _ _ _ _ 80 _ 81 _ 80 _ 78 _ _ _ _ _ 76 _ _ _ _ _ 74 _ _ _ _ _ 73 _ _ _ _ _ 71 _ _ _ _ _ 70 _ _ _ _ _ 79 _ _ _ _ _ 78 _ 79 _ 78 _ 76 _ _ _ _ _ 74 _ _ _ _ _ 66 _ _ _ _ _ 69 _ _ _ _ _ 73 _ _ _ _ _ 71 _ _ _ _ _ 69 _ _ _ _ _ 68 _ _ _ 71 _ _ _ 77 _ _ _ 76 _ _ _ _ _ 74 _ _ _ _ _ 69 _ _ _ 66 _ _ _ 65 _ _ _ 73 _ _ _ _ _ _ _ _ _ _ _ _ _ _ _ _ _ 69 _ _ _ _ _ 71 _ _ _ _ _ 69 _ _ _ _ _ 68 _ _ _ _ _ 69 _ _ _ _ _ 73 _ _ _ _ _ 76 _ _ _ _ _ 76 _ _ _ _ _ _ _ _ _ _ _ r _ _ _ _ _ _ _ _ _ _ _ _ _ _ _ _ _ _ _ _ _ _ _ _ _ _ _ _ _ _ _ _ _ _ _ _ _ _ _ _ _ _ _ _ _ _ _ r _ _ _ _ _ 81 _ _ _ _ _ 81 _ _ _ _ _ 84 _ _ _ _ _ 84 _ 86 _ 84 _ 81 _ _ _ _ _ 83 _ _ _ _ _ 81 _ _ _ _ _ 79 _ _ _ _ _ 76 _ _ _ _ _ 72 _ _ 69 _ _ 71 _ _ 69 _ _ 73 _ _ _ _ _ 69 _ _ _ _ _ 64 _ _ _ 62 _ _ _ 64 _ _ _ 61 _ _ _ 64 _ _ _ 69 _ _ _ 69 _ _ _ _ _ _ _ _ _ _ _ r _ _ _ _ _ _ _ _ _ _ _ _ _ _ _ _ _ _ _ _ _ _ _ r _ _ _ _ _ _ _ _ _ _ _ r _ _ _ _ _ 83 _ _ 81 _ _ 79 _ _ _ _ _ _ _ _ _ _ _ r _ _ _ _ _ 69 _ _ _ _ _ 66 _ _ _ 67 _ _ _ 69 _ _ _ 71 _ _ _ 72 _ _ _ 74 _ _ _ 76 _ _ _ 77 _ _ _ 78 _ _ _ 79 _ _ _ 80 _ _ _ 81 _ _ _ 79 _ _ _ _ _ 77 _ _ _ _ _ 78 _ _ _ _ _ 88 _ _ _ _ _ 88 _ _ _ _ _ _ _ _ _ _ _ 86 _ _ _ _ _ 77 _ _ _ _ _ 76 _ _ _ _ _ 86 _ _ _ _ _ 83 _ _ _ _ _ 84 _ _ _ _ _ 85 _ _ _ _ _ 81 _ _ _ _ _ 80 _ 81 _ 80 _ 78 _ _ _ _ _ 76 _ _ _ _ _ 74 _ _ _ _ _ 73 _ _ _ _ _ 71 _ _ _ _ _ 70 _ _ _ _ _ 79 _ _ _ _ _ 78 _ 79 _ 78 _ 76 _ _ _ _ _ 74 _ _ _ _ _ 66 _ _ _ _ _ 69 _ _ _ _ _ 73 _ _ _ _ _ 71 _ _ _ _ _ 69 _ _ _ _ _ 71 _ _ _ 74 _ _ _ 77 _ _ _ 76 _ _ _ _ _ 68 _ _ _ _ _ 69 _ _ _ _ _ 74 _ _ _ _ _ 73 _ _ _ _ _ 68 _ _ _ _ _ 71 _ _ _ _ _ 69 _ _ _ _ _ 69 _ _ _ _ _ _ _ _ _ _ _ r _ _ _ _ _ _ _ _ _ _ _ r _ _ _ _ _ _ _ _ _ _ _ _ _ _ _ _ _ _ _ _ _ _ _ r _ _ _ _ _ _ _ _ _ _ _ r _ _ _ _ _ 73 _ _ _ _ _ 73 _ _ _ _ _ 76 _ _ _ _ _ 78 _ _ _ _ _ 80 _ _ _ _ _ 81 _ _ _ _ _ _ _ _ _ _ _ r _ _ _ _ _ _ _ _ _ _ _ 83 _ _ _ _ _ 81 _ _ _ _ _ _ _ _ _ _ _ 84 _ _ _ _ _ 84 _ _ _ _ _ 83 _ 81 _ 78 _ 76 _ _ _ _ _ 74 _ _ _ _ _ 74 _ _ _ _ _ _ _ _ _ _ _ r _ _ _ _ _ 69 _ _ _ _ _ 73 _ _ _ _ _ 76 _ _ _ _ _ 76 _ _ 78 _ _ 73 _ _ _ _ _ 73 _ _ _ _ _ 69 _ _ _ _ _ 71 _ _ _ _ _ 69 _ _ _ _ _ 73 _ _ _ _ _ 76 _ _ _ _ _ 78 _ _ 76 _ _ 79 _ _ _ _ _ 79 _ _ _ _ _ _ _ _ _ _ _ r _ _ _ _ _ _ _ _ _ _ _ r _ _ _ _ _ _ _ _ _ _ _ r _ _ _ _ _ 74 _ _ _ _ _ 78 _ _ _ _ _ 81 _ _ _ _ _ 83 _ _ _ _ _ 84 _ _ _ _ _ 81 _ 83 _ 81 _ 79 _ _ _ _ _ 76 _ _ _ _ _ 74 _ _ _ _ _ 72 _ _ _ _ _ _ _ _ _ _ _ 69 _ _ _ _ _ 66 _ _ _ _ _ 73 _ _ _ _ _ _ _ _ _ _ _ _ _ _ _ _ _ 80 _ _ _ _ _ 80 _ _ _ _ _ _ _ _ _ _ _ r _ _ _ _ _ 76 _ _ _ _ _ 73 _ _ _ _ _ 68 _ _ _ _ _ 67 _ _ _ _ _ 77 _ _ _ _ _ 77 _ _ _ _ _ _ _ _ _ _ _ 78 _ _ _ _ _ 71 _ _ _ _ _ 71 _ _ _ _ _ _ _ _ _ _ _ r _ _ _ _ _ _ _ _ _ _ _ r _ _ _ _ _ 73 _ _ _ _ _ 74 _ _ _ 78 _ _ _ 81 _ _ _ 85 _ _ _ _ _ 84 _ _ _ _ _ 83 _ _ _ _ _ 82 _ _ _ _ _ 82 _ 83 _ 82 _ 77 _ _ _ _ _ 74 _ _ _ _ _ 71 _ _ _ _ _ 80 _ _ _ _ _ _ _ _ _ _ _ 76 _ _ _ 73 _ _ _ 70 _ _ _ 78 _ _ _ _ _ r _ _ _ _ _ r _ _ _ _ _ _ _ _ _ _ _ r _ _ _ _ _ 73 _ _ _ _ _ 73 _ _ _ _ _ _ _ _ _ _ _ 76 _ _ _ _ _ 74 _ _ _ _ _ 69 _ _ _ 66 _ _ _ 62 _ _ _ 73 _ _ _ _ _ _ _ _ _ _ _ 69 _ 71 _ 69 _ 66 _ _ _ _ _ 71 _ _ _ _ _ 64 _ _ _ _ _ 64 _ _ _ _ _ _ _ _ _ _ _\n",
      "A7 _ _ _ _ _ _ _ _ _ _ _ _ _ _ _ _ _ _ _ _ _ _ _ _ _ _ _ _ _ _ _ _ _ _ _ _ _ _ _ _ _ _ _ _ _ _ _ A7 _ _ _ _ _ _ _ _ _ _ _ _ _ _ _ _ _ _ _ _ _ _ _ _ _ _ _ _ _ _ _ _ _ _ _ _ _ _ _ _ _ _ _ _ _ _ _ A7 _ _ _ _ _ _ _ _ _ _ _ _ _ _ _ _ _ _ _ _ _ _ _ _ _ _ _ _ _ _ _ _ _ _ _ _ _ _ _ _ _ _ _ _ _ _ _ A7 _ _ _ _ _ _ _ _ _ _ _ _ _ _ _ _ _ _ _ _ _ _ _ _ _ _ _ _ _ _ _ _ _ _ _ _ _ _ _ _ _ _ _ _ _ _ _ D7 _ _ _ _ _ _ _ _ _ _ _ _ _ _ _ _ _ _ _ _ _ _ _ _ _ _ _ _ _ _ _ _ _ _ _ _ _ _ _ _ _ _ _ _ _ _ _ D7 _ _ _ _ _ _ _ _ _ _ _ _ _ _ _ _ _ _ _ _ _ _ _ _ _ _ _ _ _ _ _ _ _ _ _ _ _ _ _ _ _ _ _ _ _ _ _ A7 _ _ _ _ _ _ _ _ _ _ _ _ _ _ _ _ _ _ _ _ _ _ _ _ _ _ _ _ _ _ _ _ _ _ _ _ _ _ _ _ _ _ _ _ _ _ _ A7 _ _ _ _ _ _ _ _ _ _ _ _ _ _ _ _ _ _ _ _ _ _ _ F#7 _ _ _ _ _ _ _ _ _ _ _ _ _ _ _ _ _ _ _ _ _ _ _ Bm _ _ _ _ _ _ _ _ _ _ _ _ _ _ _ _ _ _ _ _ _ _ _ _ _ _ _ _ _ _ _ _ _ _ _ _ _ _ _ _ _ _ _ _ _ _ _ E7 _ _ _ _ _ _ _ _ _ _ _ _ _ _ _ _ _ _ _ _ _ _ _ _ _ _ _ _ _ _ _ _ _ _ _ _ _ _ _ _ _ _ _ _ _ _ _ A7 _ _ _ _ _ _ _ _ _ _ _ _ _ _ _ _ _ _ _ _ _ _ _ _ _ _ _ _ _ _ _ _ _ _ _ _ _ _ _ _ _ _ _ _ _ _ _ A7 _ _ _ _ _ _ _ _ _ _ _ _ _ _ _ _ _ _ _ _ _ _ _ E7 _ _ _ _ _ _ _ _ _ _ _ _ _ _ _ _ _ _ _ _ _ _ _ A7 _ _ _ _ _ _ _ _ _ _ _ _ _ _ _ _ _ _ _ _ _ _ _ _ _ _ _ _ _ _ _ _ _ _ _ _ _ _ _ _ _ _ _ _ _ _ _ A7 _ _ _ _ _ _ _ _ _ _ _ _ _ _ _ _ _ _ _ _ _ _ _ _ _ _ _ _ _ _ _ _ _ _ _ _ _ _ _ _ _ _ _ _ _ _ _ A7 _ _ _ _ _ _ _ _ _ _ _ _ _ _ _ _ _ _ _ _ _ _ _ _ _ _ _ _ _ _ _ _ _ _ _ _ _ _ _ _ _ _ _ _ _ _ _ A7 _ _ _ _ _ _ _ _ _ _ _ _ _ _ _ _ _ _ _ _ _ _ _ _ _ _ _ _ _ _ _ _ _ _ _ _ _ _ _ _ _ _ _ _ _ _ _ D7 _ _ _ _ _ _ _ _ _ _ _ _ _ _ _ _ _ _ _ _ _ _ _ _ _ _ _ _ _ _ _ _ _ _ _ _ _ _ _ _ _ _ _ _ _ _ _ D7 _ _ _ _ _ _ _ _ _ _ _ _ _ _ _ _ _ _ _ _ _ _ _ _ _ _ _ _ _ _ _ _ _ _ _ _ _ _ _ _ _ _ _ _ _ _ _ A7 _ _ _ _ _ _ _ _ _ _ _ _ _ _ _ _ _ _ _ _ _ _ _ _ _ _ _ _ _ _ _ _ _ _ _ _ _ _ _ _ _ _ _ _ _ _ _ F#7 _ _ _ _ _ _ _ _ _ _ _ _ _ _ _ _ _ _ _ _ _ _ _ _ _ _ _ _ _ _ _ _ _ _ _ _ _ _ _ _ _ _ _ _ _ _ _ Bm _ _ _ _ _ _ _ _ _ _ _ _ _ _ _ _ _ _ _ _ _ _ _ _ _ _ _ _ _ _ _ _ _ _ _ _ _ _ _ _ _ _ _ _ _ _ _ E7 _ _ _ _ _ _ _ _ _ _ _ _ _ _ _ _ _ _ _ _ _ _ _ _ _ _ _ _ _ _ _ _ _ _ _ _ _ _ _ _ _ _ _ _ _ _ _ A7 _ _ _ _ _ _ _ _ _ _ _ _ _ _ _ _ _ _ _ _ _ _ _ _ _ _ _ _ _ _ _ _ _ _ _ _ _ _ _ _ _ _ _ _ _ _ _ A7 _ _ _ _ _ _ _ _ _ _ _ _ _ _ _ _ _ _ _ _ _ _ _ E7 _ _ _ _ _ _ _ _ _ _ _ _ _ _ _ _ _ _ _ _ _ _ _ A7 _ _ _ _ _ _ _ _ _ _ _ _ _ _ _ _ _ _ _ _ _ _ _ _ _ _ _ _ _ _ _ _ _ _ _ _ _ _ _ _ _ _ _ _ _ _ _ A7 _ _ _ _ _ _ _ _ _ _ _ _ _ _ _ _ _ _ _ _ _ _ _ _ _ _ _ _ _ _ _ _ _ _ _ _ _ _ _ _ _ _ _ _ _ _ _ A7 _ _ _ _ _ _ _ _ _ _ _ _ _ _ _ _ _ _ _ _ _ _ _ _ _ _ _ _ _ _ _ _ _ _ _ _ _ _ _ _ _ _ _ _ _ _ _ A7 _ _ _ _ _ _ _ _ _ _ _ _ _ _ _ _ _ _ _ _ _ _ _ _ _ _ _ _ _ _ _ _ _ _ _ _ _ _ _ _ _ _ _ _ _ _ _ D7 _ _ _ _ _ _ _ _ _ _ _ _ _ _ _ _ _ _ _ _ _ _ _ _ _ _ _ _ _ _ _ _ _ _ _ _ _ _ _ _ _ _ _ _ _ _ _ D7 _ _ _ _ _ _ _ _ _ _ _ _ _ _ _ _ _ _ _ _ _ _ _ _ _ _ _ _ _ _ _ _ _ _ _ _ _ _ _ _ _ _ _ _ _ _ _ A _ _ _ _ _ _ _ _ _ _ _ _ _ _ _ _ _ _ _ _ _ _ _ _ _ _ _ _ _ _ _ _ _ _ _ _ _ _ _ _ _ _ _ _ _ _ _ C#m _ _ _ _ _ _ _ _ _ _ _ _ _ _ _ _ _ _ _ _ _ _ _ F#7 _ _ _ _ _ _ _ _ _ _ _ _ _ _ _ _ _ _ _ _ _ _ _ Bm _ _ _ _ _ _ _ _ _ _ _ _ _ _ _ _ _ _ _ _ _ _ _ _ _ _ _ _ _ _ _ _ _ _ _ _ _ _ _ _ _ _ _ _ _ _ _ E7 _ _ _ _ _ _ _ _ _ _ _ _ _ _ _ _ _ _ _ _ _ _ _ _ _ _ _ _ _ _ _ _ _ _ _ _ _ _ _ _ _ _ _ _ _ _ _ A7 _ _ _ _ _ _ _ _ _ _ _ _ _ _ _ _ _ _ _ _ _ _ _ _ _ _ _ _ _ _ _ _ _ _ _ _ _ _ _ _ _ _ _ _ _ _ _ E7 _ _ _ _ _ _ _ _ _ _ _ _ _ _ _ _ _ _ _ _ _ _ _ _ _ _ _ _ _ _ _ _ _ _ _ _ _ _ _ _ _ _ _ _ _ _ _ A7 _ _ _ _ _ _ _ _ _ _ _ _ _ _ _ _ _ _ _ _ _ _ _ _ _ _ _ _ _ _ _ _ _ _ _ _ _ _ _ _ _ _ _ _ _ _ _ A7 _ _ _ _ _ _ _ _ _ _ _ _ _ _ _ _ _ _ _ _ _ _ _ _ _ _ _ _ _ _ _ _ _ _ _ _ _ _ _ _ _ _ _ _ _ _ _ A7 _ _ _ _ _ _ _ _ _ _ _ _ _ _ _ _ _ _ _ _ _ _ _ _ _ _ _ _ _ _ _ _ _ _ _ _ _ _ _ _ _ _ _ _ _ _ _ Em _ _ _ _ _ _ _ _ _ _ _ _ _ _ _ _ _ _ _ _ _ _ _ A7 _ _ _ _ _ _ _ _ _ _ _ _ _ _ _ _ _ _ _ _ _ _ _ D7 _ _ _ _ _ _ _ _ _ _ _ _ _ _ _ _ _ _ _ _ _ _ _ _ _ _ _ _ _ _ _ _ _ _ _ _ _ _ _ _ _ _ _ _ _ _ _ D7 _ _ _ _ _ _ _ _ _ _ _ _ _ _ _ _ _ _ _ _ _ _ _ _ _ _ _ _ _ _ _ _ _ _ _ _ _ _ _ _ _ _ _ _ _ _ _ A7 _ _ _ _ _ _ _ _ _ _ _ _ _ _ _ _ _ _ _ _ _ _ _ _ _ _ _ _ _ _ _ _ _ _ _ _ _ _ _ _ _ _ _ _ _ _ _ A7 _ _ _ _ _ _ _ _ _ _ _ _ _ _ _ _ _ _ _ _ _ _ _ F#7 _ _ _ _ _ _ _ _ _ _ _ _ _ _ _ _ _ _ _ _ _ _ _ Bm _ _ _ _ _ _ _ _ _ _ _ _ _ _ _ _ _ _ _ _ _ _ _ _ _ _ _ _ _ _ _ _ _ _ _ _ _ _ _ _ _ _ _ _ _ _ _ E7 _ _ _ _ _ _ _ _ _ _ _ _ _ _ _ _ _ _ _ _ _ _ _ _ _ _ _ _ _ _ _ _ _ _ _ _ _ _ _ _ _ _ _ _ _ _ _ A7 _ _ _ _ _ _ _ _ _ _ _ _ _ _ _ _ _ _ _ _ _ _ _ _ _ _ _ _ _ _ _ _ _ _ _ _ _ _ _ _ _ _ _ _ _ _ _ Bm _ _ _ _ _ _ _ _ _ _ _ _ _ _ _ _ _ _ _ _ _ _ _ E7 _ _ _ _ _ _ _ _ _ _ _ _ _ _ _ _ _ _ _ _ _ _ _ A7 _ _ _ _ _ _ _ _ _ _ _ _ _ _ _ _ _ _ _ _ _ _ _ _ _ _ _ _ _ _ _ _ _ _ _ _ _ _ _ _ _ _ _ _ _ _ _ D7 _ _ _ _ _ _ _ _ _ _ _ _ _ _ _ _ _ _ _ _ _ _ _ _ _ _ _ _ _ _ _ _ _ _ _ _ _ _ _ _ _ _ _ _ _ _ _ A7 _ _ _ _ _ _ _ _ _ _ _ _ _ _ _ _ _ _ _ _ _ _ _ _ _ _ _ _ _ _ _ _ _ _ _ _ _ _ _ _ _ _ _ _ _ _ _ A7 _ _ _ _ _ _ _ _ _ _ _ _ _ _ _ _ _ _ _ _ _ _ _ _ _ _ _ _ _ _ _ _ _ _ _ _ _ _ _ _ _ _ _ _ _ _ _ D7 _ _ _ _ _ _ _ _ _ _ _ _ _ _ _ _ _ _ _ _ _ _ _ _ _ _ _ _ _ _ _ _ _ _ _ _ _ _ _ _ _ _ _ _ _ _ _ D7 _ _ _ _ _ _ _ _ _ _ _ _ _ _ _ _ _ _ _ _ _ _ _ _ _ _ _ _ _ _ _ _ _ _ _ _ _ _ _ _ _ _ _ _ _ _ _ A _ _ _ _ _ _ _ _ _ _ _ _ _ _ _ _ _ _ _ _ _ _ _ _ _ _ _ _ _ _ _ _ _ _ _ _ _ _ _ _ _ _ _ _ _ _ _ C#m _ _ _ _ _ _ _ _ _ _ _ _ _ _ _ _ _ _ _ _ _ _ _ Cm _ _ _ _ _ _ _ _ _ _ _ _ _ _ _ _ _ _ _ _ _ _ _ Bm _ _ _ _ _ _ _ _ _ _ _ _ _ _ _ _ _ _ _ _ _ _ _ _ _ _ _ _ _ _ _ _ _ _ _ _ _ _ _ _ _ _ _ _ _ _ _ E7 _ _ _ _ _ _ _ _ _ _ _ _ _ _ _ _ _ _ _ _ _ _ _ _ _ _ _ _ _ _ _ _ _ _ _ _ _ _ _ _ _ _ _ _ _ _ _ A _ _ _ _ _ _ _ _ _ _ _ _ _ _ _ _ _ _ _ _ _ _ _ _ _ _ _ _ _ _ _ _ _ _ _ _ _ _ _ _ _ _ _ _ _ _ _ Bm _ _ _ _ _ _ _ _ _ _ _ _ _ _ _ _ _ _ _ _ _ _ _ E7 _ _ _ _ _ _ _ _ _ _ _ _ _ _ _ _ _ _ _ _ _ _ _\n"
     ]
    }
   ],
   "source": [
    "print(all_key_songs[11].metadata.title)\n",
    "print(encode_solo(all_key_songs[11], minimum_duration))\n",
    "print(encode_chords(all_key_songs[11], minimum_duration))"
   ]
  },
  {
   "cell_type": "code",
   "execution_count": 11,
   "metadata": {},
   "outputs": [],
   "source": [
    "all_songs_in_C = []\n",
    "for song in songs:\n",
    "    all_songs_in_C.append(transpose_to_C_or_A(song))"
   ]
  },
  {
   "cell_type": "code",
   "execution_count": 12,
   "metadata": {},
   "outputs": [
    {
     "name": "stdout",
     "output_type": "stream",
     "text": [
      "Blue Bird\n",
      "64 _ _ _ _ _ 55 _ _ _ _ _ 57 _ _ _ 55 _ _ _ 57 _ _ _ 57 _ _ _ _ _ _ _ _ _ _ _ _ _ _ _ _ _ 55 _ _ _ _ _ 58 _ _ _ _ _ 57 _ _ _ _ _ 58 _ _ _ _ _ 57 _ _ _ _ _ 57 _ _ _ _ _ 56 _ _ _ _ _ _ _ _ _ _ _ 64 _ _ _ _ _ 67 _ _ _ _ _ _ _ _ _ _ _ 64 _ _ 62 _ _ 59 _ _ 55 _ _ 58 _ _ _ _ _ 66 _ _ _ _ _ 66 _ _ _ _ _ _ _ _ _ _ _ r _ _ _ _ _ 68 _ _ 69 _ _ 72 _ _ 69 _ _ 67 _ _ 65 _ _ 69 _ _ 65 _ _ 64 _ _ 62 _ _ 68 _ _ 67 _ _ r _ _ _ _ _ 64 _ _ _ _ _ 64 _ _ _ _ _ 60 _ _ _ 55 _ _ _ 60 _ _ _ 64 _ _ _ _ _ 64 _ _ _ _ _ 60 _ _ _ 55 _ _ _ 60 _ _ _ 64 _ _ _ _ _ 64 _ _ _ _ _ r _ _ _ _ _ _ _ _ _ _ _ r _ _ _ _ _ _ _ _ _ _ _ _ _ _ _ _ _ _ _ _ _ _ _ 64 _ _ _ _ _ 64 _ _ _ _ _ 60 _ _ _ 55 _ _ _ 60 _ _ _ 64 _ _ _ _ _ 67 _ _ _ _ _ 69 _ _ _ _ _ 70 _ _ _ _ _ 70 _ _ _ _ _ _ _ _ _ _ _ r _ _ _ _ _ _ _ _ _ _ _ r _ _ _ _ _ _ _ _ _ _ _ _ _ _ _ _ _ _ _ _ _ _ _ 63 _ _ _ _ _ 63 _ _ _ _ _ 60 _ _ _ 55 _ _ _ 60 _ _ _ 63 _ _ _ _ _ 63 _ _ _ _ _ 60 _ _ _ 55 _ _ _ 60 _ _ _ 63 _ _ _ _ _ 63 _ _ _ _ _ r _ _ _ _ _ _ _ _ _ _ _ r _ _ _ _ _ _ _ _ _ _ _ _ _ _ _ _ _ _ _ _ _ _ _ 64 _ _ _ _ _ 64 _ _ _ _ _ 60 _ _ _ 55 _ _ _ 60 _ _ _ 64 _ _ _ _ _ 67 _ _ _ _ _ 69 _ _ _ _ _ 71 _ _ _ _ _ 71 _ _ _ _ _ _ _ _ _ _ _ r _ _ _ _ _ _ _ _ _ _ _ r _ _ _ _ _ _ _ _ _ _ _ _ _ _ _ _ _ _ _ _ _ _ _ 64 _ _ _ _ _ 64 _ _ _ _ _ 60 _ _ _ 55 _ _ _ 60 _ _ _ 64 _ _ _ _ _ 64 _ _ _ _ _ 60 _ _ _ 55 _ _ _ 60 _ _ _ 64 _ _ _ _ _ 64 _ _ _ _ _ r _ _ _ _ _ _ _ _ _ _ _ r _ _ _ _ _ _ _ _ _ _ _ _ _ _ _ _ _ _ _ _ _ _ _ 64 _ _ _ _ _ 64 _ _ _ _ _ 60 _ _ _ 55 _ _ _ 60 _ _ _ 64 _ _ _ _ _ 55 _ _ _ _ _ 57 _ _ _ _ _ 60 _ _ _ _ _ 60 _ _ _ _ _ _ _ _ _ _ _ r _ _ _ _ _ _ _ _ _ _ _ r _ _ _ _ _ _ _ _ _ _ _ _ _ _ _ _ _ _ _ _ _ _ _ r _ _ _ _ _ 55 _ _ 57 _ _ 60 _ _ 64 _ _ 65 _ _ 60 _ _ 64 _ _ 65 _ _ _ _ _ _ _ _ 65 _ _ _ _ _ _ _ _ _ _ _ r _ _ _ _ _ 60 _ _ _ _ _ 63 _ _ 65 _ _ 66 _ _ 67 _ _ 66 67 66 65 _ _ 63 _ _ 62 _ _ 62 _ _ 60 _ _ 59 _ _ 62 _ _ 65 _ _ 68 _ _ 67 _ _ 65 _ _ 64 _ _ 62 _ _ 60 _ _ 55 _ _ 59 _ _ 60 _ _ 62 _ _ 59 _ _ 60 _ _ 55 _ _ 57 _ _ 58 _ _ 58 _ _ _ _ _ _ _ _ _ _ _ r _ _ _ _ _ _ _ _ _ _ _ r _ _ _ _ _ _ _ _ _ _ _ _ _ _ _ _ _ _ _ _ _ _ _ r _ _ _ _ _ 60 _ _ _ _ _ 72 _ _ _ _ _ 69 _ _ 67 _ _ 63 _ _ _ _ _ 60 _ _ _ _ _ 62 _ _ _ _ _ 57 _ _ _ _ _ 57 _ _ _ _ _ _ _ _ _ _ _ r _ _ _ _ _ _ _ _ _ _ _ r _ _ _ _ _ 50 _ _ _ _ _ 51 _ _ 53 _ _ 55 _ _ 57 _ _ 62 _ _ _ _ _ _ _ _ 59 _ _ 60 _ _ 55 _ _ _ _ _ _ _ _ r _ _ _ _ _ _ _ _ _ _ _ _ _ _ _ _ _ _ _ _ _ _ _ r _ _ _ _ _ 71 _ _ 70 _ _ 69 _ _ 68 _ _ 67 _ _ 65 _ _ 64 _ _ 62 _ _ 61 _ _ 52 _ _ 55 _ _ 58 _ _ 57 _ _ 56 _ _ 55 _ _ 54 _ _ 53 _ _ 57 _ _ 64 _ _ 62 _ _ 57 _ _ 53 _ _ 60 _ _ 58 _ _ 59 _ _ 68 _ _ 65 _ _ 66 _ _ 67 _ _ 54 _ _ 55 _ _ 65 _ _ 62 _ _ 63 _ _ 64 _ _ 63 _ _ 60 _ _ 57 _ _ 63 _ _ 64 _ _ 65 _ _ 67 _ _ 68 _ 70 _ 68 _ 67 _ _ 65 _ _ 64 _ _ 62 _ _ 60 _ _ 55 _ _ 58 _ _ 56 _ _ 57 _ 60 _ 64 _ 67 _ _ 65 _ _ 60 _ _ 57 _ _ 56 _ _ _ _ _ 65 _ _ 63 _ _ 64 _ _ _ _ _ _ _ _ _ _ _ r _ _ _ _ _ _ _ _ _ _ _ r _ _ _ _ _ _ _ _ _ _ _ _ _ _ _ _ _ _ _ _ _ _ _ r _ _ _ _ _ 60 _ _ _ _ _ 64 _ _ _ 67 _ _ _ 69 _ _ _ 72 _ _ _ _ _ _ _ _ _ _ _ 69 _ _ _ _ _ 60 _ _ _ _ _ 72 _ _ _ _ _ _ _ _ _ _ _ 69 _ _ _ _ _ 63 _ _ _ _ _ r _ _ _ _ _ _ _ _ _ _ _ r _ _ _ _ _ 60 _ _ _ _ _ 64 _ _ _ _ _ 67 _ _ _ _ _ 67 _ _ _ _ _ 67 _ _ 69 _ _ 64 _ _ _ _ _ 60 _ _ _ _ _ 62 _ _ _ _ _ 60 _ _ _ _ _ 64 _ _ _ _ _ 67 _ _ _ _ _ 69 _ _ _ _ _ 70 _ _ _ _ _ r _ _ _ _ _ _ _ _ _ _ _ r _ _ _ _ _ 60 _ _ 62 _ _ 63 _ _ _ _ _ 53 _ _ _ _ _ 53 _ _ _ _ _ _ _ _ _ _ _ r _ _ _ _ _ _ _ _ _ _ _ _ _ _ _ _ _ _ _ _ _ _ _ r _ _ _ _ _ _ _ _ _ _ _ _ _ _ _ _ _ _ _ _ _ _ _ _ _ _ _ _ _ _ _ _ _ _ _ _ _ _ _ _ _ _ _ _ _ _ _ r _ _ _ _ _ _ _ _ _ _ _ 69 _ _ 70 _ _ 66 _ _ 63 _ _ 60 _ _ 63 _ _ 66 _ _ 70 _ _ 69 _ _ 68 _ _ 67 _ _ 66 _ _ 65 _ _ 57 _ _ 67 _ _ 65 _ _ 64 _ _ 62 _ _ 60 _ _ 55 _ _ 59 _ 60 _ 61 _ 62 _ _ 59 _ _ 61 _ _ 58 _ _ 54 _ _ 51 _ _ 50 _ 53 _ 57 _ 60 _ _ 57 _ _ 58 _ _ 59 _ _ r _ _ _ _ _ r _ _ _ _ _ _ _ _ _ _ _ 67 _ _ 68 _ _ 69 _ _ 68 _ _ 67 _ _ 66 _ _ 65 _ _ 67 _ _ r _ _ _ _ _ _ _ _ _ _ _ r _ _ _ _ _ 65 _ _ 67 _ _ 63 _ _ 59 _ _ 55 _ 54 _ 53 _ r _ _ 55 _ _ 52 _ _ 55 _ _ 64 _ _ 62 _ _ 60 _ _ 55 _ _ 58 _ _ 56 _ _ 57 _ 60 _ 64 _ 67 _ _ 65 _ _ 56 _ _ 54 _ _ 55 _ _ 65 _ _ 62 _ _ 63 _ _ 64 _ _ 60 _ _ _ _ _ _ _ _ r _ _ _ _ _ _ _ _ _ _ _ 58 _ 60 _ 58 _ 55 _ _ 53 _ _ 52 _ _ _ 48 _ _ _ 48 _ _ _ 48 _ _ _ _ _ _ _ _ _ _ _ r _ _ _ _ _ _ _ _ _ _ _ _ _ _ _ _ _ _ _ _ _ _ _\n",
      "C _ _ _ _ _ _ _ _ _ _ _ _ _ _ _ _ _ _ _ _ _ _ _ _ _ _ _ _ _ _ _ _ _ _ _ _ _ _ _ _ _ _ _ _ _ _ _ Dm _ _ _ _ _ _ _ _ _ _ _ _ _ _ _ _ _ _ _ _ _ _ _ G7 _ _ _ _ _ _ _ _ _ _ _ _ _ _ _ _ _ _ _ _ _ _ _ Em _ _ _ _ _ _ _ _ _ _ _ _ _ _ _ _ _ _ _ _ _ _ _ A7 _ _ _ _ _ _ _ _ _ _ _ _ _ _ _ _ _ _ _ _ _ _ _ Dm _ _ _ _ _ _ _ _ _ _ _ _ _ _ _ _ _ _ _ _ _ _ _ G7 _ _ _ _ _ _ _ _ _ _ _ _ _ _ _ _ _ _ _ _ _ _ _ C7 _ _ _ _ _ _ _ _ _ _ _ _ _ _ _ _ _ _ _ _ _ _ _ _ _ _ _ _ _ _ _ _ _ _ _ _ _ _ _ _ _ _ _ _ _ _ _ C7 _ _ _ _ _ _ _ _ _ _ _ _ _ _ _ _ _ _ _ _ _ _ _ _ _ _ _ _ _ _ _ _ _ _ _ _ _ _ _ _ _ _ _ _ _ _ _ C7 _ _ _ _ _ _ _ _ _ _ _ _ _ _ _ _ _ _ _ _ _ _ _ _ _ _ _ _ _ _ _ _ _ _ _ _ _ _ _ _ _ _ _ _ _ _ _ C7 _ _ _ _ _ _ _ _ _ _ _ _ _ _ _ _ _ _ _ _ _ _ _ _ _ _ _ _ _ _ _ _ _ _ _ _ _ _ _ _ _ _ _ _ _ _ _ F7 _ _ _ _ _ _ _ _ _ _ _ _ _ _ _ _ _ _ _ _ _ _ _ _ _ _ _ _ _ _ _ _ _ _ _ _ _ _ _ _ _ _ _ _ _ _ _ F7 _ _ _ _ _ _ _ _ _ _ _ _ _ _ _ _ _ _ _ _ _ _ _ _ _ _ _ _ _ _ _ _ _ _ _ _ _ _ _ _ _ _ _ _ _ _ _ C7 _ _ _ _ _ _ _ _ _ _ _ _ _ _ _ _ _ _ _ _ _ _ _ _ _ _ _ _ _ _ _ _ _ _ _ _ _ _ _ _ _ _ _ _ _ _ _ Em _ _ _ _ _ _ _ _ _ _ _ _ _ _ _ _ _ _ _ _ _ _ _ A7 _ _ _ _ _ _ _ _ _ _ _ _ _ _ _ _ _ _ _ _ _ _ _ Dm _ _ _ _ _ _ _ _ _ _ _ _ _ _ _ _ _ _ _ _ _ _ _ _ _ _ _ _ _ _ _ _ _ _ _ _ _ _ _ _ _ _ _ _ _ _ _ G7 _ _ _ _ _ _ _ _ _ _ _ _ _ _ _ _ _ _ _ _ _ _ _ _ _ _ _ _ _ _ _ _ _ _ _ _ _ _ _ _ _ _ _ _ _ _ _ C7 _ _ _ _ _ _ _ _ _ _ _ _ _ _ _ _ _ _ _ _ _ _ _ _ _ _ _ _ _ _ _ _ _ _ _ _ _ _ _ _ _ _ _ _ _ _ _ Dm _ _ _ _ _ _ _ _ _ _ _ _ _ _ _ _ _ _ _ _ _ _ _ G7 _ _ _ _ _ _ _ _ _ _ _ _ _ _ _ _ _ _ _ _ _ _ _ C7 _ _ _ _ _ _ _ _ _ _ _ _ _ _ _ _ _ _ _ _ _ _ _ _ _ _ _ _ _ _ _ _ _ _ _ _ _ _ _ _ _ _ _ _ _ _ _ C7 _ _ _ _ _ _ _ _ _ _ _ _ _ _ _ _ _ _ _ _ _ _ _ _ _ _ _ _ _ _ _ _ _ _ _ _ _ _ _ _ _ _ _ _ _ _ _ C7 _ _ _ _ _ _ _ _ _ _ _ _ _ _ _ _ _ _ _ _ _ _ _ _ _ _ _ _ _ _ _ _ _ _ _ _ _ _ _ _ _ _ _ _ _ _ _ C7 _ _ _ _ _ _ _ _ _ _ _ _ _ _ _ _ _ _ _ _ _ _ _ _ _ _ _ _ _ _ _ _ _ _ _ _ _ _ _ _ _ _ _ _ _ _ _ F7 _ _ _ _ _ _ _ _ _ _ _ _ _ _ _ _ _ _ _ _ _ _ _ _ _ _ _ _ _ _ _ _ _ _ _ _ _ _ _ _ _ _ _ _ _ _ _ F7 _ _ _ _ _ _ _ _ _ _ _ _ _ _ _ _ _ _ _ _ _ _ _ _ _ _ _ _ _ _ _ _ _ _ _ _ _ _ _ _ _ _ _ _ _ _ _ C7 _ _ _ _ _ _ _ _ _ _ _ _ _ _ _ _ _ _ _ _ _ _ _ _ _ _ _ _ _ _ _ _ _ _ _ _ _ _ _ _ _ _ _ _ _ _ _ C7 _ _ _ _ _ _ _ _ _ _ _ _ _ _ _ _ _ _ _ _ _ _ _ A7 _ _ _ _ _ _ _ _ _ _ _ _ _ _ _ _ _ _ _ _ _ _ _ Dm _ _ _ _ _ _ _ _ _ _ _ _ _ _ _ _ _ _ _ _ _ _ _ _ _ _ _ _ _ _ _ _ _ _ _ _ _ _ _ _ _ _ _ _ _ _ _ G7 _ _ _ _ _ _ _ _ _ _ _ _ _ _ _ _ _ _ _ _ _ _ _ _ _ _ _ _ _ _ _ _ _ _ _ _ _ _ _ _ _ _ _ _ _ _ _ C7 _ _ _ _ _ _ _ _ _ _ _ _ _ _ _ _ _ _ _ _ _ _ _ _ _ _ _ _ _ _ _ _ _ _ _ _ _ _ _ _ _ _ _ _ _ _ _ Dm _ _ _ _ _ _ _ _ _ _ _ _ _ _ _ _ _ _ _ _ _ _ _ G7 _ _ _ _ _ _ _ _ _ _ _ _ _ _ _ _ _ _ _ _ _ _ _ C7 _ _ _ _ _ _ _ _ _ _ _ _ _ _ _ _ _ _ _ _ _ _ _ _ _ _ _ _ _ _ _ _ _ _ _ _ _ _ _ _ _ _ _ _ _ _ _ F7 _ _ _ _ _ _ _ _ _ _ _ _ _ _ _ _ _ _ _ _ _ _ _ _ _ _ _ _ _ _ _ _ _ _ _ _ _ _ _ _ _ _ _ _ _ _ _ C7 _ _ _ _ _ _ _ _ _ _ _ _ _ _ _ _ _ _ _ _ _ _ _ _ _ _ _ _ _ _ _ _ _ _ _ _ _ _ _ _ _ _ _ _ _ _ _ C7 _ _ _ _ _ _ _ _ _ _ _ _ _ _ _ _ _ _ _ _ _ _ _ _ _ _ _ _ _ _ _ _ _ _ _ _ _ _ _ _ _ _ _ _ _ _ _ F7 _ _ _ _ _ _ _ _ _ _ _ _ _ _ _ _ _ _ _ _ _ _ _ _ _ _ _ _ _ _ _ _ _ _ _ _ _ _ _ _ _ _ _ _ _ _ _ F7 _ _ _ _ _ _ _ _ _ _ _ _ _ _ _ _ _ _ _ _ _ _ _ _ _ _ _ _ _ _ _ _ _ _ _ _ _ _ _ _ _ _ _ _ _ _ _ C7 _ _ _ _ _ _ _ _ _ _ _ _ _ _ _ _ _ _ _ _ _ _ _ _ _ _ _ _ _ _ _ _ _ _ _ _ _ _ _ _ _ _ _ _ _ _ _ C7 _ _ _ _ _ _ _ _ _ _ _ _ _ _ _ _ _ _ _ _ _ _ _ _ _ _ _ _ _ _ _ _ _ _ _ _ _ _ _ _ _ _ _ _ _ _ _ Dm _ _ _ _ _ _ _ _ _ _ _ _ _ _ _ _ _ _ _ _ _ _ _ _ _ _ _ _ _ _ _ _ _ _ _ _ _ _ _ _ _ _ _ _ _ _ _ G7 _ _ _ _ _ _ _ _ _ _ _ _ _ _ _ _ _ _ _ _ _ _ _ _ _ _ _ _ _ _ _ _ _ _ _ _ _ _ _ _ _ _ _ _ _ _ _ C7 _ _ _ _ _ _ _ _ _ _ _ _ _ _ _ _ _ _ _ _ _ _ _ _ _ _ _ _ _ _ _ _ _ _ _ _ _ _ _ _ _ _ _ _ _ _ _ Dm _ _ _ _ _ _ _ _ _ _ _ _ _ _ _ _ _ _ _ _ _ _ _ G7 _ _ _ _ _ _ _ _ _ _ _ _ _ _ _ _ _ _ _ _ _ _ _\n"
     ]
    }
   ],
   "source": [
    "print(all_songs_in_C[11].metadata.title)\n",
    "print(encode_solo(all_songs_in_C[11], minimum_duration))\n",
    "print(encode_chords(all_songs_in_C[11], minimum_duration))"
   ]
  },
  {
   "cell_type": "code",
   "execution_count": 40,
   "metadata": {},
   "outputs": [],
   "source": [
    "def get_chord_set(songs):\n",
    "    list = []\n",
    "    for song in songs:\n",
    "        for element in song.flatten():\n",
    "            if isinstance(element, m21.harmony.ChordSymbol):\n",
    "                list.append(element.figure)\n",
    "    return sorted(set(list))"
   ]
  },
  {
   "cell_type": "code",
   "execution_count": 61,
   "metadata": {},
   "outputs": [
    {
     "name": "stdout",
     "output_type": "stream",
     "text": [
      "['A', 'A-', 'A-7', 'A-dim', 'A-m', 'A7', 'Am', 'Aø7', 'B', 'B-', 'B-7', 'B-m', 'B7', 'Bdim', 'Bm', 'C', 'C#m', 'C-', 'C-7', 'C-m', 'C/G', 'C6', 'C7', 'Cm', 'Cø7', 'D-', 'D-7', 'D-m', 'D7', 'Dm', 'Dø7', 'E-', 'E-7', 'E-dim', 'E-m', 'E7', 'Edim', 'Em', 'Eø7', 'F', 'F#7', 'F#ø7', 'F7', 'Fdim', 'Fm', 'G', 'G-7', 'G-dim', 'G7', 'Gm', 'Gø7']\n",
      "51\n"
     ]
    }
   ],
   "source": [
    "print(get_chord_set(songs))\n",
    "# print(len(get_chord_set(all_songs_in_C)))\n",
    "print(len(get_chord_set(songs)))"
   ]
  },
  {
   "cell_type": "code",
   "execution_count": 54,
   "metadata": {},
   "outputs": [],
   "source": [
    "def create_single_string(songs, sequence_length):\n",
    "    new_song_delimiter = \"/ \" * sequence_length\n",
    "    combined_solos = \"\"\n",
    "    combined_chords = \"\"\n",
    "\n",
    "    for song in songs:\n",
    "        solo = encode_solo(song, MINIMUM_DURATION)\n",
    "        chords = encode_chords(song, MINIMUM_DURATION)\n",
    "        combined_solos += solo + \" \" + new_song_delimiter\n",
    "        combined_chords += chords + \" \" + new_song_delimiter\n",
    "\n",
    "    return combined_solos[:-1], combined_chords[:-1]"
   ]
  },
  {
   "cell_type": "code",
   "execution_count": 63,
   "metadata": {},
   "outputs": [],
   "source": [
    "solos, chords = create_single_string(filtered_songs, SEQUENCE_LENGTH)\n",
    "with open(\".\\\\solos.txt\", \"w\") as fp:\n",
    "    fp.write(solos)\n",
    "\n",
    "with open(\".\\\\chords.txt\", \"w\") as fp:\n",
    "    fp.write(chords)\n"
   ]
  },
  {
   "cell_type": "code",
   "execution_count": 64,
   "metadata": {},
   "outputs": [
    {
     "name": "stdout",
     "output_type": "stream",
     "text": [
      "128962\n",
      "116178\n"
     ]
    }
   ],
   "source": [
    "print(len(solos))\n",
    "print(len(chords))"
   ]
  },
  {
   "cell_type": "code",
   "execution_count": 90,
   "metadata": {},
   "outputs": [],
   "source": [
    "def create_mapping(song_string):\n",
    "    mappings = {}\n",
    "\n",
    "    chars = song_string.split()\n",
    "    vocabulary = list(set(chars))\n",
    "\n",
    "    for idx, symbol in enumerate(vocabulary):\n",
    "        mappings[symbol] = idx\n",
    "\n",
    "    return mappings, len(vocabulary)"
   ]
  },
  {
   "cell_type": "code",
   "execution_count": 91,
   "metadata": {},
   "outputs": [],
   "source": [
    "lookup_table, VOCABULARY_SIZE = create_mapping(solos + chords)\n",
    "with open(\".\\\\lookup_table.json\", \"w\") as fp:\n",
    "    json.dump(lookup_table, fp, indent=4)"
   ]
  },
  {
   "cell_type": "code",
   "execution_count": 67,
   "metadata": {},
   "outputs": [],
   "source": [
    "def convert_to_int(solos, chords, lookup_table):\n",
    "    int_solos = []\n",
    "    int_chords = []\n",
    "\n",
    "    solo_chars = solos.split()\n",
    "    for symbol in solo_chars:\n",
    "        int_solos.append(lookup_table[symbol])\n",
    "\n",
    "    chords_chars = chords.split()\n",
    "    for symbol in chords_chars:\n",
    "        int_chords.append(lookup_table[symbol])\n",
    "\n",
    "    return int_solos, int_chords\n",
    "    "
   ]
  },
  {
   "cell_type": "code",
   "execution_count": 92,
   "metadata": {},
   "outputs": [
    {
     "name": "stdout",
     "output_type": "stream",
     "text": [
      "[3, 15, 15, 52, 15, 15, 63, 48, 63, 52, 15, 15, 76, 15, 15, 47, 15, 15, 3, 15, 15, 52, 15, 15, 63, 48, 63, 52, 15, 15, 76, 15, 15, 47, 15, 15, 3, 15, 15, 52, 15, 15, 63, 48, 63, 52, 15, 15, 76, 15, 15, 47, 15, 15, 3, 15, 15, 52, 15, 15, 60, 15, 15, 27, 15, 15, 27, 15, 15, 15, 15, 15, 3, 15, 15, 15, 15, 15, 15, 15, 15, 15, 15, 15, 15, 15, 15, 15, 15, 15, 15, 15, 15, 15, 15, 15, 45, 58, 40, 19]\n",
      "[2, 15, 15, 15, 15, 15, 15, 15, 15, 15, 15, 15, 15, 15, 15, 15, 15, 15, 15, 15, 15, 15, 15, 15, 2, 15, 15, 15, 15, 15, 15, 15, 15, 15, 15, 15, 15, 15, 15, 15, 15, 15, 15, 15, 15, 15, 15, 15, 2, 15, 15, 15, 15, 15, 15, 15, 15, 15, 15, 15, 15, 15, 15, 15, 15, 15, 15, 15, 15, 15, 15, 15, 2, 15, 15, 15, 15, 15, 15, 15, 15, 15, 15, 15, 15, 15, 15, 15, 15, 15, 15, 15, 15, 15, 15, 15, 81, 15, 15, 15]\n"
     ]
    }
   ],
   "source": [
    "int_solos, int_chords = convert_to_int(solos, chords, lookup_table)\n",
    "\n",
    "print(int_solos[:100])\n",
    "print(int_chords[:100])"
   ]
  },
  {
   "cell_type": "code",
   "execution_count": 95,
   "metadata": {},
   "outputs": [],
   "source": [
    "def generate_training_sequences(int_solos, int_chords, sequence_length):\n",
    "    inputs =  []\n",
    "    targets = [] \n",
    "\n",
    "    num_sequences = len(int_solos) - sequence_length\n",
    "    for i in range(num_sequences):\n",
    "        input_sequence = int_chords[i : i + sequence_length + 1] + int_solos[i : i + sequence_length]\n",
    "        target = int_solos[i + sequence_length]\n",
    "        inputs.append(input_sequence)\n",
    "        targets.append(target)\n",
    "\n",
    "    # vocabulary_size = len(set(int_solos))\n",
    "    inputs = keras.preprocessing.sequence.pad_sequences(inputs, maxlen = sequence_length + 1, padding = \"pre\")\n",
    "    inputs = keras.utils.to_categorical(inputs, num_classes = VOCABULARY_SIZE)\n",
    "    targets = np.array(targets)\n",
    "\n",
    "    return inputs, targets"
   ]
  },
  {
   "cell_type": "code",
   "execution_count": 96,
   "metadata": {},
   "outputs": [],
   "source": [
    "inputs, targets = generate_training_sequences(int_solos, int_chords, SEQUENCE_LENGTH)"
   ]
  },
  {
   "cell_type": "code",
   "execution_count": 14,
   "metadata": {},
   "outputs": [],
   "source": [
    "def chord_frequency(songs):\n",
    "    freq_dict  = {}\n",
    "    for song in songs:\n",
    "        for element in song.flatten():\n",
    "            if isinstance(element, m21.harmony.ChordSymbol):\n",
    "                chord = element.figure\n",
    "                if chord in freq_dict.keys(): freq_dict[chord] += 1\n",
    "                else: freq_dict[chord] = 1\n",
    "    return freq_dict\n"
   ]
  },
  {
   "cell_type": "code",
   "execution_count": 20,
   "metadata": {},
   "outputs": [],
   "source": [
    "def key_from_chords(song):\n",
    "    chord_symbols_stream = m21.stream.Stream()\n",
    "    for element in song.flatten():\n",
    "        if isinstance(element, m21.harmony.ChordSymbol):\n",
    "            chord_symbols_stream.append(element)\n",
    "    return chord_symbols_stream.analyze(\"key\")\n"
   ]
  },
  {
   "cell_type": "code",
   "execution_count": 22,
   "metadata": {},
   "outputs": [
    {
     "name": "stdout",
     "output_type": "stream",
     "text": [
      "b minor\n",
      "B- major\n"
     ]
    }
   ],
   "source": [
    "print(key_from_chords(songs[0]))\n",
    "print(songs[0].analyze(\"key\"))"
   ]
  },
  {
   "cell_type": "code",
   "execution_count": null,
   "metadata": {},
   "outputs": [],
   "source": [
    "def "
   ]
  }
 ],
 "metadata": {
  "kernelspec": {
   "display_name": "Python 3",
   "language": "python",
   "name": "python3"
  },
  "language_info": {
   "codemirror_mode": {
    "name": "ipython",
    "version": 3
   },
   "file_extension": ".py",
   "mimetype": "text/x-python",
   "name": "python",
   "nbconvert_exporter": "python",
   "pygments_lexer": "ipython3",
   "version": "3.12.2"
  }
 },
 "nbformat": 4,
 "nbformat_minor": 2
}
