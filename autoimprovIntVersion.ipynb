{
 "cells": [
  {
   "cell_type": "code",
   "execution_count": 1,
   "metadata": {},
   "outputs": [
    {
     "name": "stdout",
     "output_type": "stream",
     "text": [
      "Requirement already satisfied: music21 in c:\\users\\hridd\\appdata\\roaming\\python\\python312\\site-packages (9.1.0)\n",
      "Requirement already satisfied: chardet in c:\\users\\hridd\\appdata\\roaming\\python\\python312\\site-packages (from music21) (5.2.0)\n",
      "Requirement already satisfied: joblib in c:\\python312\\lib\\site-packages (from music21) (1.4.0)\n",
      "Requirement already satisfied: jsonpickle in c:\\python312\\lib\\site-packages (from music21) (3.0.4)\n",
      "Requirement already satisfied: matplotlib in c:\\users\\hridd\\appdata\\roaming\\python\\python312\\site-packages (from music21) (3.8.4)\n",
      "Requirement already satisfied: more-itertools in c:\\python312\\lib\\site-packages (from music21) (10.2.0)\n",
      "Requirement already satisfied: numpy in c:\\python312\\lib\\site-packages (from music21) (1.26.4)\n",
      "Requirement already satisfied: requests in c:\\users\\hridd\\appdata\\roaming\\python\\python312\\site-packages (from music21) (2.31.0)\n",
      "Requirement already satisfied: webcolors>=1.5 in c:\\python312\\lib\\site-packages (from music21) (1.13)\n",
      "Requirement already satisfied: contourpy>=1.0.1 in c:\\users\\hridd\\appdata\\roaming\\python\\python312\\site-packages (from matplotlib->music21) (1.2.1)\n",
      "Requirement already satisfied: cycler>=0.10 in c:\\users\\hridd\\appdata\\roaming\\python\\python312\\site-packages (from matplotlib->music21) (0.12.1)\n",
      "Requirement already satisfied: fonttools>=4.22.0 in c:\\python312\\lib\\site-packages (from matplotlib->music21) (4.51.0)\n",
      "Requirement already satisfied: kiwisolver>=1.3.1 in c:\\python312\\lib\\site-packages (from matplotlib->music21) (1.4.5)\n",
      "Requirement already satisfied: packaging>=20.0 in c:\\users\\hridd\\appdata\\roaming\\python\\python312\\site-packages (from matplotlib->music21) (24.0)\n",
      "Requirement already satisfied: pillow>=8 in c:\\python312\\lib\\site-packages (from matplotlib->music21) (10.3.0)\n",
      "Requirement already satisfied: pyparsing>=2.3.1 in c:\\python312\\lib\\site-packages (from matplotlib->music21) (3.1.2)\n",
      "Requirement already satisfied: python-dateutil>=2.7 in c:\\users\\hridd\\appdata\\roaming\\python\\python312\\site-packages (from matplotlib->music21) (2.9.0.post0)\n",
      "Requirement already satisfied: charset-normalizer<4,>=2 in c:\\users\\hridd\\appdata\\roaming\\python\\python312\\site-packages (from requests->music21) (3.3.2)\n",
      "Requirement already satisfied: idna<4,>=2.5 in c:\\python312\\lib\\site-packages (from requests->music21) (3.7)\n",
      "Requirement already satisfied: urllib3<3,>=1.21.1 in c:\\python312\\lib\\site-packages (from requests->music21) (2.2.1)\n",
      "Requirement already satisfied: certifi>=2017.4.17 in c:\\users\\hridd\\appdata\\roaming\\python\\python312\\site-packages (from requests->music21) (2024.2.2)\n",
      "Requirement already satisfied: six>=1.5 in c:\\users\\hridd\\appdata\\roaming\\python\\python312\\site-packages (from python-dateutil>=2.7->matplotlib->music21) (1.16.0)\n",
      "Note: you may need to restart the kernel to use updated packages.\n"
     ]
    }
   ],
   "source": [
    "pip install music21 --user"
   ]
  },
  {
   "cell_type": "code",
   "execution_count": 1,
   "metadata": {},
   "outputs": [],
   "source": [
    "import os\n",
    "import music21 as m21\n",
    "import json\n",
    "import numpy as np\n",
    "import setuptools.dist\n",
    "import tensorflow.keras as keras\n",
    "from fractions import Fraction"
   ]
  },
  {
   "cell_type": "code",
   "execution_count": 2,
   "metadata": {},
   "outputs": [],
   "source": [
    "DATASET_PATH = \".\\\\MusicXml\"\n",
    "TRANSPOSE_PATH = \".\\\\Transpose\"\n",
    "PREPROCESS_PATH = \".\\\\Preprocess\"\n",
    "MINIMUM_DURATION = 1/12\n",
    "SEQUENCE_LENGTH = 48"
   ]
  },
  {
   "cell_type": "code",
   "execution_count": 3,
   "metadata": {},
   "outputs": [],
   "source": [
    "def load_songs(dataset_path):\n",
    "    songs = []\n",
    "    for filename in os.listdir(dataset_path):\n",
    "        filepath = os.path.join(dataset_path, filename)\n",
    "        if os.path.isfile(filepath) and filename.endswith(\".xml\"):\n",
    "            song = m21.converter.parse(filepath)\n",
    "            songs.append(song)\n",
    "\n",
    "    return songs"
   ]
  },
  {
   "cell_type": "code",
   "execution_count": 4,
   "metadata": {},
   "outputs": [
    {
     "name": "stdout",
     "output_type": "stream",
     "text": [
      "Another Hairdo\n"
     ]
    }
   ],
   "source": [
    "songs = load_songs(DATASET_PATH)\n",
    "print(songs[0].metadata.title)\n",
    "# minimum_duration = get_minimum_duration(songs)"
   ]
  },
  {
   "cell_type": "code",
   "execution_count": 5,
   "metadata": {},
   "outputs": [],
   "source": [
    "ACCEPTABLE_DURATIONS = [\n",
    "    Fraction(4),\n",
    "    Fraction(3),\n",
    "    Fraction(2),\n",
    "    Fraction(3, 2),\n",
    "    Fraction(1),\n",
    "    Fraction(3, 4),\n",
    "    Fraction(2, 3),\n",
    "    Fraction(1, 2),\n",
    "    Fraction(1, 3),\n",
    "    Fraction(1, 4),\n",
    "    Fraction(1, 6)\n",
    "]"
   ]
  },
  {
   "cell_type": "code",
   "execution_count": 6,
   "metadata": {},
   "outputs": [],
   "source": [
    "def filter_songs_by_duration(song):\n",
    "    for note in song.flatten().notesAndRests:\n",
    "        duration = note.duration.quarterLength\n",
    "        if Fraction(duration).limit_denominator() not in ACCEPTABLE_DURATIONS and note.duration.quarterLength != 0:\n",
    "            print(note.duration.quarterLength)\n",
    "            return False\n",
    "    return True"
   ]
  },
  {
   "cell_type": "code",
   "execution_count": 7,
   "metadata": {},
   "outputs": [
    {
     "name": "stdout",
     "output_type": "stream",
     "text": [
      "4/5\n",
      "0.125\n",
      "0.125\n",
      "0.125\n",
      "1/12\n",
      "0.125\n",
      "0.125\n",
      "1/5\n",
      "1/5\n",
      "0.125\n",
      "1/12\n",
      "0.125\n",
      "1/5\n",
      "1/5\n",
      "0.125\n",
      "0.125\n",
      "0.125\n",
      "0.125\n",
      "1/5\n",
      "0.125\n",
      "0.125\n",
      "0.125\n",
      "28\n"
     ]
    }
   ],
   "source": [
    "filtered_songs = []\n",
    "\n",
    "for song in songs:\n",
    "    if filter_songs_by_duration(song):\n",
    "        filtered_songs.append(song) \n",
    "\n",
    "print(len(filtered_songs))"
   ]
  },
  {
   "cell_type": "code",
   "execution_count": 8,
   "metadata": {},
   "outputs": [],
   "source": [
    "def encode_solo(song, minimum_duration):\n",
    "    encoded_solo = []\n",
    "    # symbol = None\n",
    "    # total_duration = 0\n",
    "    \n",
    "    for element in song.flatten().notesAndRests:\n",
    "        if isinstance(element, m21.note.Note): symbol = element.pitch.midi\n",
    "        elif isinstance(element, m21.note.Rest): symbol = \"r\"\n",
    "        # print(symbol, end = \" \")\n",
    "        # print(element.duration.quarterLength)\n",
    "        duration = element.duration.quarterLength / minimum_duration\n",
    "        # total_duration += duration\n",
    "        # print(total_duration, end = \" \")\n",
    "        for i in range(int(duration)):\n",
    "            if i == 0: encoded_solo.append(symbol)\n",
    "            else: encoded_solo.append(\"_\")\n",
    "        # print(len(encoded_solo))\n",
    "\n",
    "    encoded_solo = \" \".join(map(str, encoded_solo))\n",
    "    return encoded_solo"
   ]
  },
  {
   "cell_type": "code",
   "execution_count": 9,
   "metadata": {},
   "outputs": [],
   "source": [
    "def encode_chords(song, minimum_duration):\n",
    "    encoded_chords = []\n",
    "    current_chord = None\n",
    "    current_duration = 0\n",
    "\n",
    "    for element in song.flatten():\n",
    "        if isinstance(element, m21.harmony.ChordSymbol):\n",
    "            if current_chord: \n",
    "                for i in range(int(current_duration)):\n",
    "                    if i == 0: encoded_chords.append(current_chord.figure)\n",
    "                    else: encoded_chords.append(\"_\")\n",
    "            current_chord = element\n",
    "            current_duration = 0\n",
    "        elif isinstance(element, m21.note.Note) or isinstance(element, m21.note.Rest):\n",
    "            current_duration += element.duration.quarterLength / minimum_duration\n",
    "\n",
    "    if current_chord:\n",
    "        for i in range(int(current_duration)):\n",
    "            if i == 0: encoded_chords.append(current_chord.figure)\n",
    "            else: encoded_chords.append(\"_\")\n",
    "    encoded_chords = \" \".join(map(str, encoded_chords))\n",
    "    return encoded_chords"
   ]
  },
  {
   "cell_type": "code",
   "execution_count": 10,
   "metadata": {},
   "outputs": [
    {
     "name": "stdout",
     "output_type": "stream",
     "text": [
      "6258\n"
     ]
    }
   ],
   "source": [
    "encoded = encode_solo(filtered_songs[0], MINIMUM_DURATION)\n",
    "print(len(encoded))"
   ]
  },
  {
   "cell_type": "code",
   "execution_count": 122,
   "metadata": {},
   "outputs": [],
   "source": [
    "def get_chord_set(songs):\n",
    "    list = []\n",
    "    for song in songs:\n",
    "        for element in song.flatten():\n",
    "            if isinstance(element, m21.harmony.ChordSymbol):\n",
    "                list.append(element.figure)\n",
    "    return sorted(set(list))"
   ]
  },
  {
   "cell_type": "code",
   "execution_count": 123,
   "metadata": {},
   "outputs": [
    {
     "name": "stdout",
     "output_type": "stream",
     "text": [
      "['A', 'A-', 'A-7', 'A-dim', 'A7', 'Am', 'Aø7', 'B', 'B-', 'B-7', 'B-m', 'B7', 'Bdim', 'Bm', 'C', 'C#m', 'C-m', 'C6', 'C7', 'Cm', 'Cø7', 'D-', 'D-7', 'D-m', 'D7', 'Dm', 'Dø7', 'E-', 'E-7', 'E-dim', 'E-m', 'E7', 'Edim', 'Em', 'Eø7', 'F', 'F#7', 'F#ø7', 'F7', 'Fdim', 'Fm', 'G', 'G-7', 'G-dim', 'G7', 'Gm', 'Gø7']\n",
      "47\n"
     ]
    }
   ],
   "source": [
    "print(get_chord_set(filtered_songs))\n",
    "# print(len(get_chord_set(all_songs_in_C)))\n",
    "print(len(get_chord_set(filtered_songs)))"
   ]
  },
  {
   "cell_type": "code",
   "execution_count": 11,
   "metadata": {},
   "outputs": [],
   "source": [
    "def create_single_string(songs, sequence_length):\n",
    "    new_song_delimiter = \"/ \" * sequence_length\n",
    "    combined_solos = \"\"\n",
    "    combined_chords = \"\"\n",
    "\n",
    "    for song in songs:\n",
    "        solo = encode_solo(song, MINIMUM_DURATION)\n",
    "        chords = encode_chords(song, MINIMUM_DURATION)\n",
    "        combined_solos += solo + \" \" + new_song_delimiter\n",
    "        combined_chords += chords + \" \" + new_song_delimiter\n",
    "\n",
    "    return combined_solos[:-1], combined_chords[:-1]"
   ]
  },
  {
   "cell_type": "code",
   "execution_count": 129,
   "metadata": {},
   "outputs": [],
   "source": [
    "def create_single_list(songs, sequence_length):\n",
    "    new_song_delimiter = [\"/\" for _ in range(sequence_length)]\n",
    "    combined_solos = []\n",
    "    combined_chords = []\n",
    "\n",
    "    for song in songs:\n",
    "        solo = encode_solo(song, MINIMUM_DURATION)\n",
    "        chords = encode_chords(song, MINIMUM_DURATION)\n",
    "        combined_solos.extend(solo)\n",
    "        combined_solos.extend(new_song_delimiter)\n",
    "        combined_chords.extend(chords)\n",
    "        combined_chords.extend(new_song_delimiter)\n",
    "    \n",
    "    return combined_solos, combined_chords"
   ]
  },
  {
   "cell_type": "code",
   "execution_count": 12,
   "metadata": {},
   "outputs": [],
   "source": [
    "solos, chords = create_single_string(filtered_songs, SEQUENCE_LENGTH)\n",
    "with open(\".\\\\solos.txt\", \"w\") as fp:\n",
    "    fp.write(solos)\n",
    "\n",
    "with open(\".\\\\chords.txt\", \"w\") as fp:\n",
    "    fp.write(chords)"
   ]
  },
  {
   "cell_type": "code",
   "execution_count": 103,
   "metadata": {},
   "outputs": [],
   "source": [
    "solos_from_list, chords_from_list = create_single_list(filtered_songs, SEQUENCE_LENGTH)\n",
    "with open(\".\\\\solos.txt\", \"w\") as fp:\n",
    "    fp.write(\" \".join(map(str, solos_from_list)))\n",
    "\n",
    "with open(\".\\\\chords.txt\", \"w\") as fp:\n",
    "    fp.write(\" \".join(map(str, chords_from_list)))"
   ]
  },
  {
   "cell_type": "code",
   "execution_count": 13,
   "metadata": {},
   "outputs": [
    {
     "name": "stdout",
     "output_type": "stream",
     "text": [
      "217043\n",
      "207172\n"
     ]
    }
   ],
   "source": [
    "print(len(solos))\n",
    "print(len(chords))"
   ]
  },
  {
   "cell_type": "code",
   "execution_count": 17,
   "metadata": {},
   "outputs": [],
   "source": [
    "def create_mapping(song_string):\n",
    "    mappings = {}\n",
    "\n",
    "    chars = song_string.split(\" \")\n",
    "    vocabulary = list(set(chars))\n",
    "\n",
    "    vocabulary = list(set(song_string))\n",
    "\n",
    "    for idx, symbol in enumerate(vocabulary):\n",
    "        mappings[symbol] = idx\n",
    "\n",
    "    return mappings, len(vocabulary)"
   ]
  },
  {
   "cell_type": "code",
   "execution_count": 18,
   "metadata": {},
   "outputs": [],
   "source": [
    "lookup_table, VOCABULARY_SIZE = create_mapping(solos + chords)\n",
    "with open(\".\\\\lookup_table.json\", \"w\") as fp:\n",
    "    json.dump(lookup_table, fp, indent=4)"
   ]
  },
  {
   "cell_type": "code",
   "execution_count": 16,
   "metadata": {},
   "outputs": [],
   "source": [
    "def convert_to_int(solos, chords, lookup_table):\n",
    "    int_solos = []\n",
    "    int_chords = []\n",
    "\n",
    "    solo_chars = solos.split(\" \")\n",
    "    for symbol in solo_chars:\n",
    "        int_solos.append(lookup_table[symbol])\n",
    "\n",
    "    chords_chars = chords.split(\" \")\n",
    "    for symbol in chords_chars:\n",
    "        int_chords.append(lookup_table[symbol])\n",
    "\n",
    "    return int_solos, int_chords"
   ]
  },
  {
   "cell_type": "code",
   "execution_count": 140,
   "metadata": {},
   "outputs": [
    {
     "ename": "KeyError",
     "evalue": "'58'",
     "output_type": "error",
     "traceback": [
      "\u001b[1;31m---------------------------------------------------------------------------\u001b[0m",
      "\u001b[1;31mKeyError\u001b[0m                                  Traceback (most recent call last)",
      "Cell \u001b[1;32mIn[140], line 1\u001b[0m\n\u001b[1;32m----> 1\u001b[0m int_solos, int_chords \u001b[38;5;241m=\u001b[39m \u001b[43mconvert_to_int\u001b[49m\u001b[43m(\u001b[49m\u001b[43msolos\u001b[49m\u001b[43m,\u001b[49m\u001b[43m \u001b[49m\u001b[43mchords\u001b[49m\u001b[43m,\u001b[49m\u001b[43m \u001b[49m\u001b[43mlookup_table\u001b[49m\u001b[43m)\u001b[49m\n",
      "Cell \u001b[1;32mIn[137], line 7\u001b[0m, in \u001b[0;36mconvert_to_int\u001b[1;34m(solos, chords, lookup_table)\u001b[0m\n\u001b[0;32m      5\u001b[0m solo_chars \u001b[38;5;241m=\u001b[39m solos\u001b[38;5;241m.\u001b[39msplit()\n\u001b[0;32m      6\u001b[0m \u001b[38;5;28;01mfor\u001b[39;00m symbol \u001b[38;5;129;01min\u001b[39;00m solo_chars:\n\u001b[1;32m----> 7\u001b[0m     int_solos\u001b[38;5;241m.\u001b[39mappend(\u001b[43mlookup_table\u001b[49m\u001b[43m[\u001b[49m\u001b[43msymbol\u001b[49m\u001b[43m]\u001b[49m)\n\u001b[0;32m      9\u001b[0m chords_chars \u001b[38;5;241m=\u001b[39m chords\u001b[38;5;241m.\u001b[39msplit()\n\u001b[0;32m     10\u001b[0m \u001b[38;5;28;01mfor\u001b[39;00m symbol \u001b[38;5;129;01min\u001b[39;00m chords_chars:\n",
      "\u001b[1;31mKeyError\u001b[0m: '58'"
     ]
    }
   ],
   "source": [
    "int_solos, int_chords = convert_to_int(solos, chords, lookup_table)"
   ]
  },
  {
   "cell_type": "code",
   "execution_count": 111,
   "metadata": {},
   "outputs": [],
   "source": [
    "def generate_training_sequences(int_solos, int_chords, sequence_length):\n",
    "    inputs =  []\n",
    "    targets = [] \n",
    "\n",
    "    num_sequences = len(int_solos) - sequence_length\n",
    "    for i in range(num_sequences):\n",
    "        input_sequence = int_chords[i : i + sequence_length + 1] + int_solos[i : i + sequence_length]\n",
    "        target = int_solos[i + sequence_length]\n",
    "        inputs.append(input_sequence)\n",
    "        targets.append(target)\n",
    "\n",
    "    # vocabulary_size = len(set(int_solos))\n",
    "    # inputs = keras.preprocessing.sequence.pad_sequences(inputs, maxlen = sequence_length + 1, padding = \"pre\")\n",
    "    inputs = keras.utils.to_categorical(inputs, num_classes = VOCABULARY_SIZE)\n",
    "    targets = np.array(targets)\n",
    "\n",
    "    return inputs, targets"
   ]
  },
  {
   "cell_type": "code",
   "execution_count": 112,
   "metadata": {},
   "outputs": [
    {
     "ename": "MemoryError",
     "evalue": "Unable to allocate 6.04 GiB for an array with shape (9889344, 82) and data type float64",
     "output_type": "error",
     "traceback": [
      "\u001b[1;31m---------------------------------------------------------------------------\u001b[0m",
      "\u001b[1;31mMemoryError\u001b[0m                               Traceback (most recent call last)",
      "Cell \u001b[1;32mIn[112], line 1\u001b[0m\n\u001b[1;32m----> 1\u001b[0m inputs, targets \u001b[38;5;241m=\u001b[39m \u001b[43mgenerate_training_sequences\u001b[49m\u001b[43m(\u001b[49m\u001b[43mint_solos_from_list\u001b[49m\u001b[43m,\u001b[49m\u001b[43m \u001b[49m\u001b[43mint_chords_from_list\u001b[49m\u001b[43m,\u001b[49m\u001b[43m \u001b[49m\u001b[43mSEQUENCE_LENGTH\u001b[49m\u001b[43m)\u001b[49m\n",
      "Cell \u001b[1;32mIn[111], line 14\u001b[0m, in \u001b[0;36mgenerate_training_sequences\u001b[1;34m(int_solos, int_chords, sequence_length)\u001b[0m\n\u001b[0;32m     10\u001b[0m     targets\u001b[38;5;241m.\u001b[39mappend(target)\n\u001b[0;32m     12\u001b[0m \u001b[38;5;66;03m# vocabulary_size = len(set(int_solos))\u001b[39;00m\n\u001b[0;32m     13\u001b[0m \u001b[38;5;66;03m# inputs = keras.preprocessing.sequence.pad_sequences(inputs, maxlen = sequence_length + 1, padding = \"pre\")\u001b[39;00m\n\u001b[1;32m---> 14\u001b[0m inputs \u001b[38;5;241m=\u001b[39m \u001b[43mkeras\u001b[49m\u001b[38;5;241;43m.\u001b[39;49m\u001b[43mutils\u001b[49m\u001b[38;5;241;43m.\u001b[39;49m\u001b[43mto_categorical\u001b[49m\u001b[43m(\u001b[49m\u001b[43minputs\u001b[49m\u001b[43m,\u001b[49m\u001b[43m \u001b[49m\u001b[43mnum_classes\u001b[49m\u001b[43m \u001b[49m\u001b[38;5;241;43m=\u001b[39;49m\u001b[43m \u001b[49m\u001b[43mVOCABULARY_SIZE\u001b[49m\u001b[43m)\u001b[49m\n\u001b[0;32m     15\u001b[0m targets \u001b[38;5;241m=\u001b[39m np\u001b[38;5;241m.\u001b[39marray(targets)\n\u001b[0;32m     17\u001b[0m \u001b[38;5;28;01mreturn\u001b[39;00m inputs, targets\n",
      "File \u001b[1;32m~\\AppData\\Roaming\\Python\\Python312\\site-packages\\keras\\src\\utils\\numerical_utils.py:88\u001b[0m, in \u001b[0;36mto_categorical\u001b[1;34m(x, num_classes)\u001b[0m\n\u001b[0;32m     86\u001b[0m     num_classes \u001b[38;5;241m=\u001b[39m np\u001b[38;5;241m.\u001b[39mmax(x) \u001b[38;5;241m+\u001b[39m \u001b[38;5;241m1\u001b[39m\n\u001b[0;32m     87\u001b[0m batch_size \u001b[38;5;241m=\u001b[39m x\u001b[38;5;241m.\u001b[39mshape[\u001b[38;5;241m0\u001b[39m]\n\u001b[1;32m---> 88\u001b[0m categorical \u001b[38;5;241m=\u001b[39m \u001b[43mnp\u001b[49m\u001b[38;5;241;43m.\u001b[39;49m\u001b[43mzeros\u001b[49m\u001b[43m(\u001b[49m\u001b[43m(\u001b[49m\u001b[43mbatch_size\u001b[49m\u001b[43m,\u001b[49m\u001b[43m \u001b[49m\u001b[43mnum_classes\u001b[49m\u001b[43m)\u001b[49m\u001b[43m)\u001b[49m\n\u001b[0;32m     89\u001b[0m categorical[np\u001b[38;5;241m.\u001b[39marange(batch_size), x] \u001b[38;5;241m=\u001b[39m \u001b[38;5;241m1\u001b[39m\n\u001b[0;32m     90\u001b[0m output_shape \u001b[38;5;241m=\u001b[39m input_shape \u001b[38;5;241m+\u001b[39m (num_classes,)\n",
      "\u001b[1;31mMemoryError\u001b[0m: Unable to allocate 6.04 GiB for an array with shape (9889344, 82) and data type float64"
     ]
    }
   ],
   "source": [
    "inputs, targets = generate_training_sequences(int_solos_from_list, int_chords_from_list, SEQUENCE_LENGTH)"
   ]
  },
  {
   "cell_type": "code",
   "execution_count": 14,
   "metadata": {},
   "outputs": [],
   "source": [
    "def chord_frequency(songs):\n",
    "    freq_dict  = {}\n",
    "    for song in songs:\n",
    "        for element in song.flatten():\n",
    "            if isinstance(element, m21.harmony.ChordSymbol):\n",
    "                chord = element.figure\n",
    "                if chord in freq_dict.keys(): freq_dict[chord] += 1\n",
    "                else: freq_dict[chord] = 1\n",
    "    return freq_dict\n"
   ]
  },
  {
   "cell_type": "code",
   "execution_count": 20,
   "metadata": {},
   "outputs": [],
   "source": [
    "def key_from_chords(song):\n",
    "    chord_symbols_stream = m21.stream.Stream()\n",
    "    for element in song.flatten():\n",
    "        if isinstance(element, m21.harmony.ChordSymbol):\n",
    "            chord_symbols_stream.append(element)\n",
    "    return chord_symbols_stream.analyze(\"key\")\n"
   ]
  },
  {
   "cell_type": "code",
   "execution_count": 22,
   "metadata": {},
   "outputs": [
    {
     "name": "stdout",
     "output_type": "stream",
     "text": [
      "b minor\n",
      "B- major\n"
     ]
    }
   ],
   "source": [
    "print(key_from_chords(songs[0]))\n",
    "print(songs[0].analyze(\"key\"))"
   ]
  },
  {
   "cell_type": "code",
   "execution_count": null,
   "metadata": {},
   "outputs": [],
   "source": [
    "def "
   ]
  }
 ],
 "metadata": {
  "kernelspec": {
   "display_name": "Python 3",
   "language": "python",
   "name": "python3"
  },
  "language_info": {
   "codemirror_mode": {
    "name": "ipython",
    "version": 3
   },
   "file_extension": ".py",
   "mimetype": "text/x-python",
   "name": "python",
   "nbconvert_exporter": "python",
   "pygments_lexer": "ipython3",
   "version": "3.12.2"
  }
 },
 "nbformat": 4,
 "nbformat_minor": 2
}
